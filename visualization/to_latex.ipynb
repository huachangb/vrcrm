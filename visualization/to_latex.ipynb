{
 "cells": [
  {
   "cell_type": "code",
   "execution_count": 1,
   "id": "f7d788be-97dc-47f8-a44a-099126e9bc8d",
   "metadata": {},
   "outputs": [],
   "source": [
    "import matplotlib.pyplot as plt\n",
    "import numpy as np\n",
    "\n",
    "from scipy.stats import ttest_rel\n",
    "\n",
    "from div_fgan_data import scene_data, yeast_data\n"
   ]
  },
  {
   "cell_type": "code",
   "execution_count": 2,
   "id": "e237ea07-e96a-453d-a7f1-06e777e3df6e",
   "metadata": {},
   "outputs": [],
   "source": [
    "def collect_stats(data, **kwargs):\n",
    "    \"\"\"Collect statistics about model \"\"\"\n",
    "    model_data = dict()\n",
    "\n",
    "    for model, values in data.items():\n",
    "        model_stats = {\n",
    "            stat: func(values)\n",
    "            for stat, func in kwargs.items()    \n",
    "        }\n",
    "        model_data[model] = model_stats\n",
    "\n",
    "    return model_data"
   ]
  },
  {
   "cell_type": "code",
   "execution_count": 3,
   "id": "503378ff-0e34-4d1a-8bed-7ac138698c60",
   "metadata": {},
   "outputs": [],
   "source": [
    "def ttest_wrt_base(base_values):\n",
    "    def wrapper(values):\n",
    "        pval = ttest_rel(base_values, values, alternative=\"two-sided\").pvalue\n",
    "        print(pval)\n",
    "        return pval\n",
    "    return wrapper"
   ]
  },
  {
   "cell_type": "code",
   "execution_count": 4,
   "id": "fd4366c5-3b12-4f65-9dc0-63eaede41ee3",
   "metadata": {},
   "outputs": [],
   "source": [
    "def collect_pvals(data, base_name, parse_name=True, omit_base=True):\n",
    "    base_values = data[base_name]\n",
    "    stat_collect = dict(mean=np.mean, pval=ttest_wrt_base(base_values))\n",
    "    stats = collect_stats(data, **stat_collect)\n",
    "\n",
    "    if parse_name:\n",
    "        stats = {num: value for name, value in stats.items() if (num := int(name[18:])) >= int(omit_base)}\n",
    "\n",
    "    return stats"
   ]
  },
  {
   "cell_type": "code",
   "execution_count": 5,
   "id": "ea734cfb-c13b-4148-8fc6-9c1d928a2959",
   "metadata": {},
   "outputs": [],
   "source": [
    "def filter_data(data, hard):\n",
    "    return {name: values for name, values in data.items() if (\"hard\" in name) == hard}"
   ]
  },
  {
   "cell_type": "code",
   "execution_count": 6,
   "id": "9b2913e8-23b5-4746-aa85-eb0b69cdc829",
   "metadata": {},
   "outputs": [
    {
     "name": "stdout",
     "output_type": "stream",
     "text": [
      "nan\n",
      "0.0032362091566916296\n",
      "0.00013560425535850124\n",
      "4.561029703957218e-06\n",
      "6.103352172641193e-05\n",
      "1.4134998850773327e-07\n",
      "3.674935187546454e-07\n",
      "8.01454221499228e-06\n",
      "1.712598288648977e-08\n",
      "3.7785654970746327e-06\n",
      "nan\n",
      "0.012715819201414343\n",
      "0.054434801409420905\n",
      "0.1062975041117151\n",
      "0.06644876872856197\n",
      "0.018301789302238827\n",
      "0.0016090034199665302\n",
      "0.0015096765041002914\n",
      "0.0032964586361730625\n",
      "0.0033443683184533443\n",
      "nan\n",
      "7.079847941035653e-05\n",
      "1.5007868614751134e-05\n",
      "1.5708400633378357e-06\n",
      "2.2275906741443295e-05\n",
      "3.691268491134129e-08\n",
      "1.3768837176619e-07\n",
      "1.8696302736335792e-06\n",
      "4.996652971689505e-09\n",
      "1.081841867555961e-06\n",
      "nan\n",
      "0.37367386367622724\n",
      "0.09361270443038042\n",
      "0.00033508480212897905\n",
      "0.00017444808971085683\n",
      "7.042543823315768e-05\n",
      "1.104920161747947e-05\n",
      "7.640421554541303e-06\n",
      "2.8536942898686235e-05\n",
      "4.318386087795196e-05\n",
      "nan\n",
      "0.09838265550670762\n",
      "0.0040475925650861186\n",
      "0.06622327163930108\n",
      "0.0054936088487694415\n",
      "0.06865145732534193\n",
      "0.10862695855134796\n",
      "0.014449943036968829\n",
      "0.008589021490832969\n",
      "0.012538594535949377\n",
      "nan\n",
      "0.6063410167354576\n",
      "0.08701482696148614\n",
      "0.04203264423071357\n",
      "0.009147687224489618\n",
      "0.031031652656888536\n",
      "0.005613298369621394\n",
      "0.0024771230470979483\n",
      "0.12085895049388193\n",
      "0.0025201993708233164\n",
      "nan\n",
      "0.6519821896999819\n",
      "0.2540623722642682\n",
      "0.8858699420045608\n",
      "0.3790642421264423\n",
      "0.8840642056227148\n",
      "0.9365721808509672\n",
      "0.8351555959567667\n",
      "0.3690179348104691\n",
      "0.8862116807249588\n",
      "nan\n",
      "0.3329492268308323\n",
      "0.6656588921382633\n",
      "0.6840332105435787\n",
      "0.6114406152268272\n",
      "0.8766902215825787\n",
      "0.2756044571184526\n",
      "0.14198502317410472\n",
      "0.9788287189383953\n",
      "0.2652368466125322\n"
     ]
    }
   ],
   "source": [
    "for dataset in [scene_data, yeast_data]:\n",
    "    for stat in [\"map\", \"exp\"]:\n",
    "        del dataset[stat][\"logging\"]\n",
    "        del dataset[stat][\"logger-og\"]\n",
    "\n",
    "\n",
    "exp_scene_pvals_soft = collect_pvals(filter_data(scene_data[\"exp\"], hard=False), base_name=\"nn-soft 32-8 fgan 0\")\n",
    "exp_scene_pvals_hard = collect_pvals(filter_data(scene_data[\"exp\"], hard=True), base_name=\"nn-hard 32-8 fgan 0\")\n",
    "map_scene_pvals_soft = collect_pvals(filter_data(scene_data[\"map\"], hard=False), base_name=\"nn-soft 32-8 fgan 0\")\n",
    "map_scene_pvals_hard = collect_pvals(filter_data(scene_data[\"map\"], hard=True), base_name=\"nn-hard 32-8 fgan 0\")\n",
    "\n",
    "exp_yeast_pvals_soft = collect_pvals(filter_data(yeast_data[\"exp\"], hard=False), base_name=\"nn-soft 32-8 fgan 0\")\n",
    "exp_yeast_pvals_hard = collect_pvals(filter_data(yeast_data[\"exp\"], hard=True), base_name=\"nn-hard 32-8 fgan 0\")\n",
    "map_yeast_pvals_soft = collect_pvals(filter_data(yeast_data[\"map\"], hard=False), base_name=\"nn-soft 32-8 fgan 0\")\n",
    "map_yeast_pvals_hard = collect_pvals(filter_data(yeast_data[\"map\"], hard=True), base_name=\"nn-hard 32-8 fgan 0\")"
   ]
  },
  {
   "cell_type": "code",
   "execution_count": 7,
   "id": "84dcddc4-8a01-46e6-b844-a83ec4a30507",
   "metadata": {},
   "outputs": [
    {
     "data": {
      "text/plain": [
       "{1: {'mean': 2.0915, 'pval': 0.012715819201414343},\n",
       " 2: {'mean': 2.2118499999999996, 'pval': 0.054434801409420905},\n",
       " 3: {'mean': 2.4235999999999995, 'pval': 0.1062975041117151},\n",
       " 4: {'mean': 2.4460100000000002, 'pval': 0.06644876872856197},\n",
       " 5: {'mean': 2.48548, 'pval': 0.018301789302238827},\n",
       " 10: {'mean': 2.54692, 'pval': 0.0016090034199665302},\n",
       " 15: {'mean': 2.5392200000000003, 'pval': 0.0015096765041002914},\n",
       " 20: {'mean': 2.5015800000000006, 'pval': 0.0032964586361730625},\n",
       " 30: {'mean': 2.5011799999999997, 'pval': 0.0033443683184533443}}"
      ]
     },
     "execution_count": 7,
     "metadata": {},
     "output_type": "execute_result"
    }
   ],
   "source": [
    "exp_scene_pvals_hard"
   ]
  },
  {
   "cell_type": "code",
   "execution_count": 8,
   "id": "43fdf63d-22b6-413f-b607-982df8d43b95",
   "metadata": {},
   "outputs": [
    {
     "name": "stdout",
     "output_type": "stream",
     "text": [
      "1 & .003 & .013 & .098 & .606\\\\\n",
      "2 & < .001 & .054 & .004 & .087\\\\\n",
      "3 & < .001 & .106 & .066 & .042\\\\\n",
      "4 & < .001 & .066 & .005 & .009\\\\\n",
      "5 & < .001 & .018 & .069 & .031\\\\\n",
      "10 & < .001 & .002 & .109 & .006\\\\\n",
      "15 & < .001 & .002 & .014 & .002\\\\\n",
      "20 & < .001 & .003 & .009 & .121\\\\\n",
      "30 & < .001 & .003 & .013 & .003\\\\\n",
      "\n"
     ]
    }
   ],
   "source": [
    "def format_pvalue(pvalue, t=0.001, sig_nums=3):\n",
    "    if pvalue < t:\n",
    "        return f\"< {str(t)[1:]}\"\n",
    "\n",
    "    pvalue = round(pvalue, sig_nums)\n",
    "    return str(pvalue)[1:]\n",
    "\n",
    "n_steps = [1, 2, 3, 4, 5, 10, 15, 20, 30]\n",
    "rows = []\n",
    "for i in [1, 2, 3, 4, 5, 10, 15, 20, 30]:\n",
    "    row = str(i)\n",
    "    \n",
    "    # order: scene, yeast and then Soft Hard\n",
    "    values = [\n",
    "        format_pvalue(exp_scene_pvals_soft[i][\"pval\"]),\n",
    "        format_pvalue(exp_scene_pvals_hard[i][\"pval\"]),\n",
    "        format_pvalue(exp_yeast_pvals_soft[i][\"pval\"]),\n",
    "        format_pvalue(exp_yeast_pvals_hard[i][\"pval\"])\n",
    "    ]\n",
    "    row += \" & \" + \" & \".join(values) + \"\\\\\\\\\\n\"\n",
    "    rows.append(row)\n",
    "\n",
    "print(\"\".join(rows))"
   ]
  },
  {
   "cell_type": "code",
   "execution_count": 9,
   "id": "682cfa5b-fcbb-48c8-a545-21321f74cbb7",
   "metadata": {},
   "outputs": [
    {
     "name": "stdout",
     "output_type": "stream",
     "text": [
      "1 & < .001 & .374 & .652 & .333\\\\\n",
      "2 & < .001 & .094 & .254 & .666\\\\\n",
      "3 & < .001 & < .001 & .886 & .684\\\\\n",
      "4 & < .001 & < .001 & .379 & .611\\\\\n",
      "5 & < .001 & < .001 & .884 & .877\\\\\n",
      "10 & < .001 & < .001 & .937 & .276\\\\\n",
      "15 & < .001 & < .001 & .835 & .142\\\\\n",
      "20 & < .001 & < .001 & .369 & .979\\\\\n",
      "30 & < .001 & < .001 & .886 & .265\\\\\n",
      "\n"
     ]
    }
   ],
   "source": [
    "rows = []\n",
    "for i in [1, 2, 3, 4, 5, 10, 15, 20, 30]:\n",
    "    row = str(i)\n",
    "    \n",
    "    # order: scene, yeast and then Soft Hard\n",
    "    values = [\n",
    "        format_pvalue(map_scene_pvals_soft[i][\"pval\"]),\n",
    "        format_pvalue(map_scene_pvals_hard[i][\"pval\"]),\n",
    "        format_pvalue(map_yeast_pvals_soft[i][\"pval\"]),\n",
    "        format_pvalue(map_yeast_pvals_hard[i][\"pval\"])\n",
    "    ]\n",
    "    row += \" & \" + \" & \".join(values) + \"\\\\\\\\\\n\"\n",
    "    rows.append(row)\n",
    "\n",
    "print(\"\".join(rows))"
   ]
  },
  {
   "cell_type": "code",
   "execution_count": null,
   "id": "d64a980a-04e1-4a27-ba92-4d498f82cc5a",
   "metadata": {},
   "outputs": [],
   "source": []
  }
 ],
 "metadata": {
  "kernelspec": {
   "display_name": "Python 3 (ipykernel)",
   "language": "python",
   "name": "python3"
  },
  "language_info": {
   "codemirror_mode": {
    "name": "ipython",
    "version": 3
   },
   "file_extension": ".py",
   "mimetype": "text/x-python",
   "name": "python",
   "nbconvert_exporter": "python",
   "pygments_lexer": "ipython3",
   "version": "3.10.9"
  }
 },
 "nbformat": 4,
 "nbformat_minor": 5
}
